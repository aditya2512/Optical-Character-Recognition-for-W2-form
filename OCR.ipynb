{
  "nbformat": 4,
  "nbformat_minor": 0,
  "metadata": {
    "colab": {
      "provenance": []
    },
    "kernelspec": {
      "name": "python3",
      "display_name": "Python 3"
    },
    "language_info": {
      "name": "python"
    }
  },
  "cells": [
    {
      "cell_type": "code",
      "execution_count": 13,
      "metadata": {
        "id": "Kr8h5317Aws2"
      },
      "outputs": [],
      "source": [
        "import PyPDF2\n",
        "from pdf2image import convert_from_path\n",
        "import pytesseract\n",
        "\n",
        "# Specify the path to the tesseract executable\n",
        "pytesseract.pytesseract.tesseract_cmd = r'/usr/bin/tesseract' # Update with your tesseract path if different\n",
        "\n",
        "# Your existing code here...\n",
        "def extract_w2_data(pdf_file):\n",
        "    # Open PDF\n",
        "    reader = PyPDF2.PdfReader(pdf_file)\n",
        "\n",
        "    # Convert to image for OCR processing\n",
        "    images = convert_from_path(pdf_file)\n",
        "\n",
        "    # Process first page\n",
        "    text_content = pytesseract.image_to_string(images[2])\n",
        "\n",
        "    return text_content\n"
      ]
    },
    {
      "cell_type": "code",
      "source": [
        "ocr_text=extract_w2_data('w2_form.pdf')"
      ],
      "metadata": {
        "id": "u8-AfKqbBNbv"
      },
      "execution_count": 15,
      "outputs": []
    },
    {
      "cell_type": "code",
      "source": [
        "import re\n",
        "\n",
        "def clean_text(text):\n",
        "    \"\"\" Pre-process the text to remove unwanted lines and clean formatting issues \"\"\"\n",
        "    # Remove common irrelevant lines or phrases from OCR text\n",
        "    text = re.sub(r\"11 Nonqualified plans.*?\\n\", \"\", text)\n",
        "    text = re.sub(r\"12a See instructions.*?\\n\", \"\", text)\n",
        "    text = re.sub(r\"a Other.*?\\n\", \"\", text)\n",
        "    text = re.sub(r\"ze\\s+\", \"\", text)  # Remove \"ze\" clutter in addresses\n",
        "    return text\n",
        "\n",
        "def extract_w2_info(text):\n",
        "    # Clean input text\n",
        "    text = clean_text(text)\n",
        "\n",
        "    # Initialize a dictionary to store extracted fields\n",
        "    extracted_info = {\n",
        "        \"Employer\": None,\n",
        "        \"Employer Address\": None,\n",
        "        \"Employee\": None,\n",
        "        \"Employee Address\": None,\n",
        "        \"Wages\": None,\n",
        "        \"Federal Tax Withheld\": None,\n",
        "        \"Social Security Wages\": None,\n",
        "        \"Social Security Tax Withheld\": None,\n",
        "        \"Medicare Wages\": None,\n",
        "        \"Medicare Tax Withheld\": None,\n",
        "        \"State Wages\": None,\n",
        "        \"State Tax Withheld\": None,\n",
        "    }\n",
        "\n",
        "    # Define regex patterns for key fields\n",
        "    patterns = {\n",
        "        \"Employer\": r\"Employer's name, address, and ZIP code\\s*\\n(.*?)\\n\",\n",
        "        \"Employer Address\": r\"Employer's name, address, and ZIP code\\s*\\n.*?\\n(.*?)(?:\\n|$)(.*?)\\n\",\n",
        "        \"Employee\": r\"2\\. Employee Name and Address\\.\\n(.*?)\\n\",\n",
        "        \"Employee Address\": r\"2\\. Employee Name and Address\\.\\n.*?\\n(.*?)(?:\\n|$)(.*?)\\n\",\n",
        "        \"Wages\": r\"1 Wages, tips, other comp\\.\\s*\\n(\\d+\\.\\d+)\",\n",
        "        \"Federal Tax Withheld\": r\"2 Federal income tax withheld\\s*\\n(\\d+\\.\\d+)\",\n",
        "        \"Social Security Wages\": r\"3 Social security wages\\s*\\n(\\d+\\.\\d+)\",\n",
        "        \"Social Security Tax Withheld\": r\"4 Social security tax withheld\\s*\\n(\\d+\\.\\d+)\",\n",
        "        \"Medicare Wages\": r\"5 Medicare wages and tips\\s*\\n(\\d+\\.\\d+)\",\n",
        "        \"Medicare Tax Withheld\": r\"6 Medicare tax withheld\\s*\\n(\\d+\\.\\d+)\",\n",
        "        \"State Wages\": r\"16 State wages, tips, etc\\.\\s*\\n(\\d+\\.\\d+)\",\n",
        "        \"State Tax Withheld\": r\"17 State income tax\\s*\\n(\\d+\\.\\d+)\",\n",
        "    }\n",
        "\n",
        "    # Apply patterns to extract information\n",
        "    for key, pattern in patterns.items():\n",
        "        match = re.search(pattern, text, re.DOTALL)\n",
        "        if match:\n",
        "            if key in [\"Employer Address\", \"Employee Address\"]:\n",
        "                extracted_info[key] = \" \".join([line.strip() for line in match.groups() if line])\n",
        "            else:\n",
        "                extracted_info[key] = match.group(1).strip()\n",
        "\n",
        "    # Clean up extracted data\n",
        "    for key, value in extracted_info.items():\n",
        "        if not value:\n",
        "            extracted_info[key] = \"Not Found\"\n",
        "\n",
        "    return extracted_info\n",
        "\n",
        "# Example OCR output (replace this with the actual OCR text)\n",
        "ocr_text = ocr_text\n",
        "\n",
        "# Extract information\n",
        "info = extract_w2_info(ocr_text)\n",
        "\n",
        "# Print the extracted fields\n",
        "for key, value in info.items():\n",
        "    print(f\"{key}: {value}\")\n"
      ],
      "metadata": {
        "colab": {
          "base_uri": "https://localhost:8080/"
        },
        "id": "rB51ORB5G23e",
        "outputId": "e06b77eb-ce8c-4315-cbf6-d45ff7d07038"
      },
      "execution_count": 18,
      "outputs": [
        {
          "output_type": "stream",
          "name": "stdout",
          "text": [
            "Employer: TRAILS BUSINESS CORP\n",
            "Employer Address: 18 PEARL ST BURLINGTON, VT 05401\n",
            "Employee: =— DAVID B ROCK\n",
            "Employee Address: ad ATLANTA, GA 30303 13 Stat emp] Ret. planjard party sick pay\n",
            "Wages: Not Found\n",
            "Federal Tax Withheld: 3514.74\n",
            "Social Security Wages: Not Found\n",
            "Social Security Tax Withheld: 2005.74\n",
            "Medicare Wages: Not Found\n",
            "Medicare Tax Withheld: 3514.74\n",
            "State Wages: Not Found\n",
            "State Tax Withheld: Not Found\n"
          ]
        }
      ]
    },
    {
      "cell_type": "code",
      "source": [
        "import re\n",
        "\n",
        "def clean_numeric_value(value):\n",
        "    \"\"\"\n",
        "    Clean and convert numeric values, handling potential OCR inconsistencies\n",
        "    \"\"\"\n",
        "    if not value or value == 'N/A':\n",
        "        return None\n",
        "    try:\n",
        "        # Remove commas and convert to float\n",
        "        return float(str(value).replace(',', ''))\n",
        "    except ValueError:\n",
        "        return None\n",
        "\n",
        "def extract_w2_info(text):\n",
        "    \"\"\"\n",
        "    Extract key information from a W-2 document text with improved robustness\n",
        "    \"\"\"\n",
        "    w2_info = {\n",
        "        \"employee_name\": None,\n",
        "        \"employee_address\": None,\n",
        "        \"employer_name\": None,\n",
        "        \"employer_address\": None,\n",
        "        \"employer_ein\": None,\n",
        "        \"employee_ssn\": None,\n",
        "        \"total_wages\": None,\n",
        "        \"federal_tax_withheld\": None,\n",
        "        \"social_security_wages\": None,\n",
        "        \"social_security_tax_withheld\": None,\n",
        "        \"medicare_wages\": None,\n",
        "        \"medicare_tax_withheld\": None,\n",
        "        \"social_security_tips\": None,\n",
        "        \"state_wages\": None,\n",
        "        \"state_tax_withheld\": None\n",
        "    }\n",
        "\n",
        "    # Improved name and address extraction\n",
        "    name_pattern = r'(DAVID B ROCK)\\n(.*)\\n(.*)'\n",
        "    name_match = re.search(name_pattern, text)\n",
        "    if name_match:\n",
        "        w2_info[\"employee_name\"] = name_match.group(1)\n",
        "        w2_info[\"employee_address\"] = f\"{name_match.group(2)}, {name_match.group(3)}\"\n",
        "\n",
        "    # Employer extraction\n",
        "    employer_pattern = r'(TRAILS BUSINESS CORP)\\n(.*)\\n(.*)'\n",
        "    employer_match = re.search(employer_pattern, text)\n",
        "    if employer_match:\n",
        "        w2_info[\"employer_name\"] = employer_match.group(1)\n",
        "        w2_info[\"employer_address\"] = f\"{employer_match.group(2)}, {employer_match.group(3)}\"\n",
        "\n",
        "    # SSN extraction with better matching\n",
        "    ssn_pattern = r'(XXX-XX-\\d{4})'\n",
        "    ssn_match = re.search(ssn_pattern, text)\n",
        "    if ssn_match:\n",
        "        w2_info[\"employee_ssn\"] = ssn_match.group(1)\n",
        "\n",
        "    # EIN extraction\n",
        "    ein_pattern = r'(\\d{2}-\\d{7})'\n",
        "    ein_match = re.search(ein_pattern, text)\n",
        "    if ein_match:\n",
        "        w2_info[\"employer_ein\"] = ein_match.group(1)\n",
        "\n",
        "    # Numeric value extraction with multiple approaches\n",
        "    numeric_extractions = {\n",
        "        \"total_wages\": r'Gross Pay\\s+([\\d,\\.]+)',\n",
        "        \"social_security_wages\": r'Reported W-2 Wages\\s+\\d+\\.\\d+\\s+([\\d,\\.]+)',\n",
        "        \"federal_tax_withheld\": r'Federal income tax withheld\\n([\\d,\\.]+)',\n",
        "        \"social_security_tax_withheld\": r'Social security tax withheld\\n([\\d,\\.]+)',\n",
        "        \"medicare_wages\": r'Medicare wages and tips\\n([\\d,\\.]+)',\n",
        "        \"medicare_tax_withheld\": r'Medicare tax withheld\\n([\\d,\\.]+)',\n",
        "        \"social_security_tips\": r'Social security tips\\n([\\d,\\.]+)',\n",
        "        \"state_wages\": r'State wages, tips, etc\\.\\n([\\d,\\.]+)',\n",
        "        \"state_tax_withheld\": r'State income tax\\n([\\d,\\.]+)'\n",
        "    }\n",
        "\n",
        "    for key, pattern in numeric_extractions.items():\n",
        "        match = re.search(pattern, text)\n",
        "        if match:\n",
        "            w2_info[key] = clean_numeric_value(match.group(1))\n",
        "\n",
        "    return w2_info\n",
        "\n",
        "def main():\n",
        "    # Read the OCR text\n",
        "    # with open('w2_ocr_text.txt', 'r', encoding='utf-8') as file:\n",
        "    #     ocr_text = file.read()\n",
        "\n",
        "    # Extract information\n",
        "    w2_data = extract_w2_info(ocr_text)\n",
        "\n",
        "    # Pretty print the extracted information\n",
        "    print(\"W-2 Information Extraction:\")\n",
        "    for key, value in w2_data.items():\n",
        "        print(f\"{key.replace('_', ' ').title()}: {value}\")\n",
        "\n",
        "if __name__ == \"__main__\":\n",
        "    main()"
      ],
      "metadata": {
        "colab": {
          "base_uri": "https://localhost:8080/"
        },
        "id": "pfoo5iYiLCqC",
        "outputId": "367514db-2184-4551-8861-bcdfc389e046"
      },
      "execution_count": 21,
      "outputs": [
        {
          "output_type": "stream",
          "name": "stdout",
          "text": [
            "W-2 Information Extraction:\n",
            "Employee Name: DAVID B ROCK\n",
            "Employee Address: 1451 PEACH STREET Gross Pay 3,514.74 3,514.74 3,514.74 3,514.74, ATLANTA, GA 30303 Less soc.sec.Tips Reported in Box 7 N/A 1,509.00 N/A N/A\n",
            "Employer Name: TRAILS BUSINESS CORP\n",
            "Employer Address: 18 PEARL ST, BURLINGTON, VT 05401\n",
            "Employer Ein: 47-1111212\n",
            "Employee Ssn: XXX-XX-1122\n",
            "Total Wages: 3514.74\n",
            "Federal Tax Withheld: 3514.74\n",
            "Social Security Wages: None\n",
            "Social Security Tax Withheld: 2005.74\n",
            "Medicare Wages: None\n",
            "Medicare Tax Withheld: 3514.74\n",
            "Social Security Tips: None\n",
            "State Wages: None\n",
            "State Tax Withheld: None\n"
          ]
        }
      ]
    },
    {
      "cell_type": "code",
      "source": [
        "ocr_text"
      ],
      "metadata": {
        "colab": {
          "base_uri": "https://localhost:8080/",
          "height": 165
        },
        "id": "SfrUmN6gOAdj",
        "outputId": "7610f36f-6958-4f5a-be46-278e55557b53"
      },
      "execution_count": 22,
      "outputs": [
        {
          "output_type": "execute_result",
          "data": {
            "text/plain": [
              "\"2021 W-2 and EARNINGS SUMMARY (D>\\n\\n \\n\\n \\n\\nEmployee Reference Copy This blue section is your Earnings Summary which provides more detailed\\nWage and Tax . . i .\\nStat t information on the generation of your W-2 statement. The reverse side\\natemen OMB No. 1545-0008 includes instructions and other general information.\\nCopy C for employee’srecords.\\nd= Control number Dept. Corp. Employer use only\\n000004 KH/D7W) 3\\n\\n \\n\\n \\n\\n \\n\\n \\n\\nc Employer's name, address, and ZIP code\\nTRAILS BUSINESS CORP\\n18 PEARL ST\\nBURLINGTON, VT 05401\\n\\n1. Your Gross Pay was adjusted _as follows to produce your W-2 Statement.\\nBatch #99391\\n\\n \\n\\n \\n\\n \\n\\n \\n\\n \\n\\n \\n\\n \\n\\n \\n \\n\\n \\n\\n \\n\\n \\n\\n \\n\\n \\n\\n \\n\\n \\n\\n \\n\\n \\n\\n \\n\\n \\n\\n \\n\\n \\n\\n \\n\\n \\n\\n \\n\\n \\n\\n \\n\\n \\n\\n \\n\\n \\n\\n \\n\\n \\n\\n \\n\\n \\n\\n \\n\\n \\n\\n \\n\\n \\n\\n \\n\\n     \\n \\n\\n \\n\\n          \\n\\n \\n\\n \\n\\n \\n\\n \\n\\n \\n\\n \\n\\n \\n\\n \\n\\n \\n\\n \\n\\n \\n\\n \\n\\n \\n\\n \\n\\n \\n\\n \\n\\n \\n\\n \\n\\n \\n\\n \\n\\n \\n\\n \\n\\n \\n\\n \\n\\n \\n\\n \\n\\n \\n\\n \\n\\n \\n\\n \\n\\n \\n\\nWages, Tips, other Social Security | Medicare VT. State Wages,\\nCompensation Wages Wages Tips, Etc.\\nBox 1 of W-2 Box 3 of W-2 Box 5 of W-2 Box 16 of W-2\\nDAVID B ROCK\\n1451 PEACH STREET Gross Pay 3,514.74 3,514.74 3,514.74 3,514.74\\nATLANTA, GA 30303 Less soc.sec.Tips Reported in Box 7 N/A 1,509.00 N/A N/A\\nReported W-2 Wages 3,514.74 2,005.74 3,514.74 3,514.74\\nb Employer's FED ID number |a Employee's SSA number\\n47-11112121 XXX-XX-1122\\n1 Wages, tips, other comp. 2 Federal income tax withheld\\n3514.74 95.08\\n3 Social security wages 4 Social security tax withheld\\n2005.74 217.91\\n5 Medicare wages and tips 6 Medicare tax withheld\\n3514.74 50.96\\n7 Social security tips 8 Allocated tips\\n1509.00\\n10 Dependent care benefits 2. Employee Name and Address.\\n11 Nonqualified plans 12a See instructions for box 12\\n=— DAVID B ROCK\\na Other ze 1451 PEACH STREET\\nad ATLANTA, GA 30303\\n13 Stat emp] Ret. planjard party sick pay\\n15 State |Employer’s state ID no.|16 State wages, tips, etc.\\nVT HT11011586 3514.74\\n17 State income tax 18 Local wages, tips, etc.\\n93.26\\n19 Local income tax 20 Locality name © 2021 ADP, Inc.\\n| Wages, tips, other comp. 2 Federal income tax withheld 1 Wages, tips, other comp. 2 Federal income tax withheld 1 Wages, tips, other comp. 2 Federal income tax withheld\\n3514.74 95.08 3514.74 95.08 3514.74 95.08\\n3 Social security wages 4 Social security tax withheld 3 Social security wages 4 Social security tax withheld 3 Social security wages 4 Social security tax withheld\\n2005.74 217.91 2005.74 217.91 2005.74 217.91\\n5 Medicare wages and tips 6 Medicare tax withheld 5 Medicare wages and tips 6 Medicare tax withheld 5 Medicare wages and tips 6 Medicare tax withheld\\n3514.74 50.96 3514.74 50.96 3514.74\\nd Control number Dept. Corp. Employer use only d= Control number Dept. Corp. Employer use only d= Control number Dept. Corp. Employer use only\\n000004 _KH/D7W 3 000004 _KH/D7W 3 000004 _KH/D7W 3\\nc Employer's name, address, and ZIP code c Employer's name, address, and ZIP code c Employer's name, address, and ZIP code\\nTRAILS BUSINESS CORP. TRAILS BUSINESS CORP TRAILS BUSINESS CORP.\\n18 PEARL ST 18 PEARL ST 18 PEARL ST\\nBURLINGTON, VT 05401 BURLINGTON, VT 05401 BURLINGTON, VT 05401\\nb Employer's FED ID number [fa Employee's SSA number b Employer's FED ID number ]a Employee's SSA number b Employer's FED ID number |a Employee’s SSA number\\n47-11112121 XXX-XX-1122 47-11112121 XXX-XX-1122 47-11112121 XXX-XX-1122\\n7 Social security tips 8 Allocated tips 7 Social security tips 8 Allocated tips 7 Social security tips 8 Allocated tips\\n1509.00 1509.00 1509.00\\n10 Dependent care benefits 10 Dependent care benefits (0 Dependent care benefits\\nualified plat 2a See instructions for box 12 laa la\\n14 Other 12b 14 Other 2b 14 Other 12b\\n2c j12c 12¢\\n12d 12d a2\\n113 Stat emp/Ret. plan 3rd party sick pay 13 Stat emp] Ret. plan|3rd party sick pay| 13 Stat emp/Ret. plan/3rd party sick pay\\nDAVID B ROCK DAVID B ROCK DAVID B ROCK\\n1451 PEACH STREET 1451 PEACH STREET 1451 PEACH STREET\\nATLANTA, GA 30303 ATLANTA, GA 30303 ATLANTA, GA 30303\\n15 State [Employer's state ID no. li6 State wages, tips, etc. 15 State |Employer’s state ID no.|16 State wages, tips, etc. 15 State [Employer's state ID no.|16 State wages, tips, etc.\\n|WHT11011586 3514.74 VT HT11011586 3514.74 VT HT11011586 3514.74\\n17 State income tax 118 Local wages, tips, etc. 17 State income tax 18 Local wages, tips, etc. 17 State income tax |18 Local wages, tips, etc.\\n93.26 93.26 93.26\\n19 Local income tax 20 Locality name 19 Local income tax 20 Locality name 19 Local income tax 20 Locality name\\nFederal Filing Copy VT.State Reference Copy VT.State Filing Copy\\nW-2 0. 2027 W-2 Me™ 2027) W-2 “et 2021\\nStatement Statement Statement\\n\\nIB No. 1545-0008 OMB No. 1545-0008 OMB No. 1545-0008\\nCopyB to befiled with employee's FederalincomeTax Return: Copy2 to be filed with employee’sState IncomeTax Return. Copy2 to be filed with employee’sState IncomeTax Return.\\n\\n \\n\\n \\n\\n \\n\\n \\n\\n \\n\\n \\n\\n \\n\\x0c\""
            ],
            "application/vnd.google.colaboratory.intrinsic+json": {
              "type": "string"
            }
          },
          "metadata": {},
          "execution_count": 22
        }
      ]
    },
    {
      "cell_type": "code",
      "source": [
        "# prompt: filter important details from the cocr_text above\n",
        "\n",
        "import re\n",
        "\n",
        "def extract_key_details(ocr_text):\n",
        "    \"\"\"\n",
        "    Extracts key details from the OCR text of a W-2 form.\n",
        "    \"\"\"\n",
        "    details = {}\n",
        "\n",
        "    # Regular expressions for key fields\n",
        "    patterns = {\n",
        "        \"Employee Name\": r\"2\\. Employee Name and Address\\.\\n(.*?)\\n\",\n",
        "        \"Employee Address\": r\"Employee Name and Address\\n.*?\\n(.*?)\\n.*?\\n\", # Adjust for address format\n",
        "        \"Employer Name\": r\"Employer's name, address, and ZIP code\\n(.*?)\\n\",\n",
        "        \"Employer Address\": r\"Employer's name, address, and ZIP code\\n.*?\\n(.*?)\\n.*?\\n\", # Adjust for address format\n",
        "        \"SSN\": r\"Social Security number\\s*(\\d{3}-\\d{2}-\\d{4})\",\n",
        "        \"Wages\": r\"Wages, tips, other compensation\\s*\\$?([\\d,.]+)\",\n",
        "        \"Federal Income Tax Withheld\": r\"Federal income tax withheld\\s*\\$?([\\d,.]+)\",\n",
        "    }\n",
        "\n",
        "    for key, pattern in patterns.items():\n",
        "        match = re.search(pattern, ocr_text, re.DOTALL)\n",
        "        if match:\n",
        "            details[key] = match.group(1).strip() if match.group(1) else \"Not Found\"\n",
        "        else:\n",
        "            details[key] = \"Not Found\"\n",
        "\n",
        "    return details\n",
        "\n",
        "\n",
        "# Assuming 'ocr_text' contains the output from your OCR process\n",
        "key_info = extract_key_details(ocr_text)\n",
        "\n",
        "# Print the extracted details\n",
        "for key, value in key_info.items():\n",
        "    print(f\"{key}: {value}\")"
      ],
      "metadata": {
        "colab": {
          "base_uri": "https://localhost:8080/"
        },
        "id": "ibL36vpUOD5k",
        "outputId": "0ef20826-abd9-4977-a80a-90e3fa996f11"
      },
      "execution_count": 24,
      "outputs": [
        {
          "output_type": "stream",
          "name": "stdout",
          "text": [
            "Employee Name: 11 Nonqualified plans 12a See instructions for box 12\n",
            "Employee Address: Not Found\n",
            "Employer Name: TRAILS BUSINESS CORP\n",
            "Employer Address: 18 PEARL ST\n",
            "SSN: Not Found\n",
            "Wages: Not Found\n",
            "Federal Income Tax Withheld: 3514.74\n"
          ]
        }
      ]
    },
    {
      "cell_type": "code",
      "source": [
        "pip install PyPDF2"
      ],
      "metadata": {
        "colab": {
          "base_uri": "https://localhost:8080/"
        },
        "id": "LRav6-CPBAj7",
        "outputId": "d9e506fd-6fdd-46ea-bf09-98f3bdbeb96d"
      },
      "execution_count": 3,
      "outputs": [
        {
          "output_type": "stream",
          "name": "stdout",
          "text": [
            "Collecting PyPDF2\n",
            "  Downloading pypdf2-3.0.1-py3-none-any.whl.metadata (6.8 kB)\n",
            "Downloading pypdf2-3.0.1-py3-none-any.whl (232 kB)\n",
            "\u001b[2K   \u001b[90m━━━━━━━━━━━━━━━━━━━━━━━━━━━━━━━━━━━━━━━━\u001b[0m \u001b[32m232.6/232.6 kB\u001b[0m \u001b[31m4.4 MB/s\u001b[0m eta \u001b[36m0:00:00\u001b[0m\n",
            "\u001b[?25hInstalling collected packages: PyPDF2\n",
            "Successfully installed PyPDF2-3.0.1\n"
          ]
        }
      ]
    },
    {
      "cell_type": "code",
      "source": [
        "pip install pdf2image"
      ],
      "metadata": {
        "colab": {
          "base_uri": "https://localhost:8080/"
        },
        "id": "aTu1SUAgBDBT",
        "outputId": "6cffa368-71e8-422a-d87b-9284ae36039f"
      },
      "execution_count": 4,
      "outputs": [
        {
          "output_type": "stream",
          "name": "stdout",
          "text": [
            "Collecting pdf2image\n",
            "  Downloading pdf2image-1.17.0-py3-none-any.whl.metadata (6.2 kB)\n",
            "Requirement already satisfied: pillow in /usr/local/lib/python3.10/dist-packages (from pdf2image) (11.0.0)\n",
            "Downloading pdf2image-1.17.0-py3-none-any.whl (11 kB)\n",
            "Installing collected packages: pdf2image\n",
            "Successfully installed pdf2image-1.17.0\n"
          ]
        }
      ]
    },
    {
      "cell_type": "code",
      "source": [
        "!pip install pytesseract\n",
        "!sudo apt install tesseract-ocr\n",
        "!sudo apt install libtesseract-dev"
      ],
      "metadata": {
        "colab": {
          "base_uri": "https://localhost:8080/"
        },
        "id": "kJeBAHJrBHCz",
        "outputId": "545c8765-3e80-4519-8ab3-0e8d554d90ce"
      },
      "execution_count": 10,
      "outputs": [
        {
          "output_type": "stream",
          "name": "stdout",
          "text": [
            "Requirement already satisfied: pytesseract in /usr/local/lib/python3.10/dist-packages (0.3.13)\n",
            "Requirement already satisfied: packaging>=21.3 in /usr/local/lib/python3.10/dist-packages (from pytesseract) (24.2)\n",
            "Requirement already satisfied: Pillow>=8.0.0 in /usr/local/lib/python3.10/dist-packages (from pytesseract) (11.0.0)\n",
            "Reading package lists... Done\n",
            "Building dependency tree... Done\n",
            "Reading state information... Done\n",
            "The following additional packages will be installed:\n",
            "  tesseract-ocr-eng tesseract-ocr-osd\n",
            "The following NEW packages will be installed:\n",
            "  tesseract-ocr tesseract-ocr-eng tesseract-ocr-osd\n",
            "0 upgraded, 3 newly installed, 0 to remove and 52 not upgraded.\n",
            "Need to get 4,816 kB of archives.\n",
            "After this operation, 15.6 MB of additional disk space will be used.\n",
            "Get:1 http://archive.ubuntu.com/ubuntu jammy/universe amd64 tesseract-ocr-eng all 1:4.00~git30-7274cfa-1.1 [1,591 kB]\n",
            "Get:2 http://archive.ubuntu.com/ubuntu jammy/universe amd64 tesseract-ocr-osd all 1:4.00~git30-7274cfa-1.1 [2,990 kB]\n",
            "Get:3 http://archive.ubuntu.com/ubuntu jammy/universe amd64 tesseract-ocr amd64 4.1.1-2.1build1 [236 kB]\n",
            "Fetched 4,816 kB in 1s (4,212 kB/s)\n",
            "debconf: unable to initialize frontend: Dialog\n",
            "debconf: (No usable dialog-like program is installed, so the dialog based frontend cannot be used. at /usr/share/perl5/Debconf/FrontEnd/Dialog.pm line 78, <> line 3.)\n",
            "debconf: falling back to frontend: Readline\n",
            "debconf: unable to initialize frontend: Readline\n",
            "debconf: (This frontend requires a controlling tty.)\n",
            "debconf: falling back to frontend: Teletype\n",
            "dpkg-preconfigure: unable to re-open stdin: \n",
            "Selecting previously unselected package tesseract-ocr-eng.\n",
            "(Reading database ... 123663 files and directories currently installed.)\n",
            "Preparing to unpack .../tesseract-ocr-eng_1%3a4.00~git30-7274cfa-1.1_all.deb ...\n",
            "Unpacking tesseract-ocr-eng (1:4.00~git30-7274cfa-1.1) ...\n",
            "Selecting previously unselected package tesseract-ocr-osd.\n",
            "Preparing to unpack .../tesseract-ocr-osd_1%3a4.00~git30-7274cfa-1.1_all.deb ...\n",
            "Unpacking tesseract-ocr-osd (1:4.00~git30-7274cfa-1.1) ...\n",
            "Selecting previously unselected package tesseract-ocr.\n",
            "Preparing to unpack .../tesseract-ocr_4.1.1-2.1build1_amd64.deb ...\n",
            "Unpacking tesseract-ocr (4.1.1-2.1build1) ...\n",
            "Setting up tesseract-ocr-eng (1:4.00~git30-7274cfa-1.1) ...\n",
            "Setting up tesseract-ocr-osd (1:4.00~git30-7274cfa-1.1) ...\n",
            "Setting up tesseract-ocr (4.1.1-2.1build1) ...\n",
            "Processing triggers for man-db (2.10.2-1) ...\n",
            "Reading package lists... Done\n",
            "Building dependency tree... Done\n",
            "Reading state information... Done\n",
            "The following additional packages will be installed:\n",
            "  libarchive-dev libleptonica-dev\n",
            "The following NEW packages will be installed:\n",
            "  libarchive-dev libleptonica-dev libtesseract-dev\n",
            "0 upgraded, 3 newly installed, 0 to remove and 52 not upgraded.\n",
            "Need to get 3,743 kB of archives.\n",
            "After this operation, 16.0 MB of additional disk space will be used.\n",
            "Get:1 http://archive.ubuntu.com/ubuntu jammy-updates/main amd64 libarchive-dev amd64 3.6.0-1ubuntu1.3 [581 kB]\n",
            "Get:2 http://archive.ubuntu.com/ubuntu jammy/universe amd64 libleptonica-dev amd64 1.82.0-3build1 [1,562 kB]\n",
            "Get:3 http://archive.ubuntu.com/ubuntu jammy/universe amd64 libtesseract-dev amd64 4.1.1-2.1build1 [1,600 kB]\n",
            "Fetched 3,743 kB in 1s (3,433 kB/s)\n",
            "debconf: unable to initialize frontend: Dialog\n",
            "debconf: (No usable dialog-like program is installed, so the dialog based frontend cannot be used. at /usr/share/perl5/Debconf/FrontEnd/Dialog.pm line 78, <> line 3.)\n",
            "debconf: falling back to frontend: Readline\n",
            "debconf: unable to initialize frontend: Readline\n",
            "debconf: (This frontend requires a controlling tty.)\n",
            "debconf: falling back to frontend: Teletype\n",
            "dpkg-preconfigure: unable to re-open stdin: \n",
            "Selecting previously unselected package libarchive-dev:amd64.\n",
            "(Reading database ... 123710 files and directories currently installed.)\n",
            "Preparing to unpack .../libarchive-dev_3.6.0-1ubuntu1.3_amd64.deb ...\n",
            "Unpacking libarchive-dev:amd64 (3.6.0-1ubuntu1.3) ...\n",
            "Selecting previously unselected package libleptonica-dev.\n",
            "Preparing to unpack .../libleptonica-dev_1.82.0-3build1_amd64.deb ...\n",
            "Unpacking libleptonica-dev (1.82.0-3build1) ...\n",
            "Selecting previously unselected package libtesseract-dev:amd64.\n",
            "Preparing to unpack .../libtesseract-dev_4.1.1-2.1build1_amd64.deb ...\n",
            "Unpacking libtesseract-dev:amd64 (4.1.1-2.1build1) ...\n",
            "Setting up libleptonica-dev (1.82.0-3build1) ...\n",
            "Setting up libarchive-dev:amd64 (3.6.0-1ubuntu1.3) ...\n",
            "Setting up libtesseract-dev:amd64 (4.1.1-2.1build1) ...\n",
            "Processing triggers for man-db (2.10.2-1) ...\n"
          ]
        }
      ]
    },
    {
      "cell_type": "code",
      "source": [
        "!apt-get update\n",
        "!apt-get install poppler-utils"
      ],
      "metadata": {
        "colab": {
          "base_uri": "https://localhost:8080/"
        },
        "id": "NV95-KoGBJJ1",
        "outputId": "049005a2-7ff0-42db-dc45-67154dd722ff"
      },
      "execution_count": 8,
      "outputs": [
        {
          "output_type": "stream",
          "name": "stdout",
          "text": [
            "\r0% [Working]\r            \rGet:1 http://security.ubuntu.com/ubuntu jammy-security InRelease [129 kB]\n",
            "\r0% [Connecting to archive.ubuntu.com (185.125.190.83)] [1 InRelease 12.7 kB/129 kB 10%] [Connected t\r                                                                                                    \rGet:2 https://cloud.r-project.org/bin/linux/ubuntu jammy-cran40/ InRelease [3,626 B]\n",
            "Get:3 https://developer.download.nvidia.com/compute/cuda/repos/ubuntu2204/x86_64  InRelease [1,581 B]\n",
            "Hit:4 http://archive.ubuntu.com/ubuntu jammy InRelease\n",
            "Hit:5 https://r2u.stat.illinois.edu/ubuntu jammy InRelease\n",
            "Get:6 http://archive.ubuntu.com/ubuntu jammy-updates InRelease [128 kB]\n",
            "Get:7 http://security.ubuntu.com/ubuntu jammy-security/main amd64 Packages [2,469 kB]\n",
            "Hit:8 https://ppa.launchpadcontent.net/deadsnakes/ppa/ubuntu jammy InRelease\n",
            "Get:9 https://developer.download.nvidia.com/compute/cuda/repos/ubuntu2204/x86_64  Packages [1,196 kB]\n",
            "Hit:10 https://ppa.launchpadcontent.net/graphics-drivers/ppa/ubuntu jammy InRelease\n",
            "Get:11 http://security.ubuntu.com/ubuntu jammy-security/restricted amd64 Packages [3,364 kB]\n",
            "Hit:12 https://ppa.launchpadcontent.net/ubuntugis/ppa/ubuntu jammy InRelease\n",
            "Get:13 http://archive.ubuntu.com/ubuntu jammy-backports InRelease [127 kB]\n",
            "Get:14 http://security.ubuntu.com/ubuntu jammy-security/universe amd64 Packages [1,226 kB]\n",
            "Get:15 http://archive.ubuntu.com/ubuntu jammy-updates/restricted amd64 Packages [3,481 kB]\n",
            "Get:16 http://archive.ubuntu.com/ubuntu jammy-updates/universe amd64 Packages [1,516 kB]\n",
            "Get:17 http://archive.ubuntu.com/ubuntu jammy-updates/main amd64 Packages [2,755 kB]\n",
            "Fetched 16.4 MB in 2s (6,717 kB/s)\n",
            "Reading package lists... Done\n",
            "W: Skipping acquire of configured file 'main/source/Sources' as repository 'https://r2u.stat.illinois.edu/ubuntu jammy InRelease' does not seem to provide it (sources.list entry misspelt?)\n",
            "Reading package lists... Done\n",
            "Building dependency tree... Done\n",
            "Reading state information... Done\n",
            "The following NEW packages will be installed:\n",
            "  poppler-utils\n",
            "0 upgraded, 1 newly installed, 0 to remove and 52 not upgraded.\n",
            "Need to get 186 kB of archives.\n",
            "After this operation, 696 kB of additional disk space will be used.\n",
            "Get:1 http://archive.ubuntu.com/ubuntu jammy-updates/main amd64 poppler-utils amd64 22.02.0-2ubuntu0.5 [186 kB]\n",
            "Fetched 186 kB in 1s (320 kB/s)\n",
            "Selecting previously unselected package poppler-utils.\n",
            "(Reading database ... 123633 files and directories currently installed.)\n",
            "Preparing to unpack .../poppler-utils_22.02.0-2ubuntu0.5_amd64.deb ...\n",
            "Unpacking poppler-utils (22.02.0-2ubuntu0.5) ...\n",
            "Setting up poppler-utils (22.02.0-2ubuntu0.5) ...\n",
            "Processing triggers for man-db (2.10.2-1) ...\n"
          ]
        }
      ]
    },
    {
      "cell_type": "code",
      "source": [],
      "metadata": {
        "id": "dHgTJl7ZBkuJ"
      },
      "execution_count": null,
      "outputs": []
    }
  ]
}